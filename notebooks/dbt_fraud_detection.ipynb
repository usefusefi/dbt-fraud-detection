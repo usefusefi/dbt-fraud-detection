import pandas as pd
from snowflake.connector import connect

conn = connect(
    user='your_user',
    password='your_password',
    account='your_account'
)

query = "SELECT * FROM fact_fraud_detection"
df = pd.read_sql(query, conn)
df.head()
